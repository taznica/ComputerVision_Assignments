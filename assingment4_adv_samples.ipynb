{
  "nbformat": 4,
  "nbformat_minor": 0,
  "metadata": {
    "colab": {
      "name": "assingment4_adv_samples.ipynb",
      "provenance": [],
      "collapsed_sections": [],
      "include_colab_link": true
    },
    "kernelspec": {
      "name": "python3",
      "display_name": "Python 3"
    },
    "accelerator": "GPU"
  },
  "cells": [
    {
      "cell_type": "markdown",
      "metadata": {
        "id": "view-in-github",
        "colab_type": "text"
      },
      "source": [
        "<a href=\"https://colab.research.google.com/github/taznica/ComputerVision_Assignments/blob/main/assingment4_adv_samples.ipynb\" target=\"_parent\"><img src=\"https://colab.research.google.com/assets/colab-badge.svg\" alt=\"Open In Colab\"/></a>"
      ]
    },
    {
      "cell_type": "code",
      "metadata": {
        "id": "CuWeMO95J2Y0"
      },
      "source": [
        "# To do this, we will need \n",
        "# i)  Two Dataloaders; MNIST, USPS\n",
        "# ii) Four Networks;  LeNet-MNIST, LeNet-USPS\n",
        "#iii) Train the four networks.\n",
        "# iv) Make adv. samples.\n",
        "# v)  Analyze them.\n",
        "\n",
        "import os, sys\n",
        "import torch\n",
        "import torch.nn as nn\n",
        "import torch.nn.functional as F\n",
        "import matplotlib.pyplot as plt\n",
        "import torchvision\n",
        "import torch.optim as optim\n",
        "from torchvision import datasets, transforms\n",
        "from torch.autograd import Variable\n",
        "import numpy as np\n",
        "from PIL import Image\n",
        "import torch.utils as utils\n",
        "from google.colab import drive\n",
        "import matplotlib.pyplot as plt\n",
        "from IPython.display import clear_output, display\n",
        "from typing import Any\n",
        "\n",
        "lr = 0.001"
      ],
      "execution_count": 194,
      "outputs": []
    },
    {
      "cell_type": "code",
      "metadata": {
        "id": "OEef-slUfxyw"
      },
      "source": [
        "# Define LeNet\n",
        "class LeNet(nn.Module):\n",
        "  def __init__(self, input_dim=1, num_class=10):\n",
        "    super(LeNet, self).__init__()\n",
        "\n",
        "    # Convolutional layers\n",
        "    self.conv1 = nn.Conv2d(input_dim, 20,  kernel_size=5, stride=1, padding=0)\n",
        "    self.conv2 = nn.Conv2d(    20,    50,  kernel_size=5, stride=1, padding=0)\n",
        "    self.avgpool = nn.AdaptiveAvgPool2d((1, 1))\n",
        "\n",
        "    # Fully connected layers\n",
        "    self.fc1 = nn.Linear(50, 500)\n",
        "    self.fc2 = nn.Linear(500, num_class)\n",
        "    \n",
        "    # Activation func.\n",
        "    self.relu = nn.ReLU()\n",
        "\n",
        "  def forward(self, x):\n",
        "    x = self.relu(self.conv1(x))        # Conv.-> ReLU\n",
        "    x = F.max_pool2d(x, kernel_size=2, stride=2)  # Pooling with 2x2 window\n",
        "    x = self.relu(self.conv2(x))        # Conv.-> ReLU\n",
        "    x = F.max_pool2d(x, kernel_size=2, stride=2)  # Pooling with 2x2 window\n",
        "\n",
        "    x = self.avgpool(x)\n",
        "    b,c,h,w = x.size()                  # batch, channels, height, width\n",
        "    x = x.view(b, -1)                   # flatten the tensor x\n",
        "\n",
        "    x = self.relu(self.fc1(x))          # fc-> ReLU\n",
        "    x = self.fc2(x)                     # fc\n",
        "    return x"
      ],
      "execution_count": 195,
      "outputs": []
    },
    {
      "cell_type": "code",
      "metadata": {
        "id": "sZV6haof7d-S"
      },
      "source": [
        "# model_urls = {\n",
        "#     'alexnet': 'https://download.pytorch.org/models/alexnet-owt-4df8aa71.pth',\n",
        "# }\n",
        "\n",
        "\n",
        "# class AlexNet(nn.Module):\n",
        "\n",
        "#     def __init__(self, num_classes: int = 10) -> None:\n",
        "#         super(AlexNet, self).__init__()\n",
        "#         self.features = nn.Sequential(\n",
        "#             nn.Conv2d(1, 64, kernel_size=11, stride=4, padding=2),\n",
        "#             nn.ReLU(inplace=True),\n",
        "#             nn.MaxPool2d(kernel_size=3, stride=2),\n",
        "#             nn.Conv2d(64, 192, kernel_size=5, padding=2),\n",
        "#             nn.ReLU(inplace=True),\n",
        "#             nn.MaxPool2d(kernel_size=3, stride=2),\n",
        "#             nn.Conv2d(192, 384, kernel_size=3, padding=1),\n",
        "#             nn.ReLU(inplace=True),\n",
        "#             nn.Conv2d(384, 256, kernel_size=3, padding=1),\n",
        "#             nn.ReLU(inplace=True),\n",
        "#             nn.Conv2d(256, 256, kernel_size=3, padding=1),\n",
        "#             nn.ReLU(inplace=True),\n",
        "#             nn.MaxPool2d(kernel_size=3, stride=2),\n",
        "#         )\n",
        "#         self.avgpool = nn.AdaptiveAvgPool2d((6, 6))\n",
        "#         self.classifier = nn.Sequential(\n",
        "#             nn.Dropout(),\n",
        "#             nn.Linear(256 * 6 * 6, 4096),\n",
        "#             nn.ReLU(inplace=True),\n",
        "#             nn.Dropout(),\n",
        "#             nn.Linear(4096, 4096),\n",
        "#             nn.ReLU(inplace=True),\n",
        "#             nn.Linear(4096, num_classes),\n",
        "#         )\n",
        "\n",
        "#     def forward(self, x: torch.Tensor) -> torch.Tensor:\n",
        "#         x = self.features(x)\n",
        "#         x = self.avgpool(x)\n",
        "#         x = torch.flatten(x, 1)\n",
        "#         x = self.classifier(x)\n",
        "#         return x\n",
        "\n",
        "\n",
        "# def alexnet(pretrained: bool = False, progress: bool = True, **kwargs: Any) -> AlexNet:\n",
        "#     r\"\"\"AlexNet model architecture from the\n",
        "#     `\"One weird trick...\" <https://arxiv.org/abs/1404.5997>`_ paper.\n",
        "#     Args:\n",
        "#         pretrained (bool): If True, returns a model pre-trained on ImageNet\n",
        "#         progress (bool): If True, displays a progress bar of the download to stderr\n",
        "#     \"\"\"\n",
        "#     model = AlexNet(**kwargs)\n",
        "#     if pretrained:\n",
        "#         state_dict = load_state_dict_from_url(model_urls['alexnet'],\n",
        "#                                               progress=progress)\n",
        "#         model.load_state_dict(state_dict)\n",
        "#     return model\n",
        "\n",
        "class AlexNet(nn.Module):\n",
        "  def __init__(self, input_dim=1, num_class=10):\n",
        "    super(AlexNet, self).__init__()\n",
        "\n",
        "    # Convolutional layers\n",
        "    self.conv1 = nn.Conv2d(input_dim, 20,  kernel_size=5, stride=1, padding=0)\n",
        "    self.conv2 = nn.Conv2d(    20,    50,  kernel_size=5, stride=1, padding=0)\n",
        "    self.avgpool = nn.AdaptiveAvgPool2d((1, 1))\n",
        "\n",
        "    # Fully connected layers\n",
        "    self.fc1 = nn.Linear(50, 500)\n",
        "    self.fc2 = nn.Linear(500, num_class)\n",
        "    \n",
        "    # Activation func.\n",
        "    self.relu = nn.ReLU()\n",
        "\n",
        "  def forward(self, x):\n",
        "    x = self.relu(self.conv1(x))        # Conv.-> ReLU\n",
        "    x = F.max_pool2d(x, kernel_size=2, stride=2)  # Pooling with 2x2 window\n",
        "    x = self.relu(self.conv2(x))        # Conv.-> ReLU\n",
        "    x = F.max_pool2d(x, kernel_size=2, stride=2)  # Pooling with 2x2 window\n",
        "\n",
        "    x = self.avgpool(x)\n",
        "    b,c,h,w = x.size()                  # batch, channels, height, width\n",
        "    x = x.view(b, -1)                   # flatten the tensor x\n",
        "\n",
        "    x = self.relu(self.fc1(x))          # fc-> ReLU\n",
        "    x = self.fc2(x)                     # fc\n",
        "    return x"
      ],
      "execution_count": 196,
      "outputs": []
    },
    {
      "cell_type": "code",
      "metadata": {
        "id": "no8Qg49lheYJ"
      },
      "source": [
        "# Make MINIST dataloaders\n",
        "transform = transforms.Compose([transforms.ToTensor(), transforms.Normalize((0.1307,), (0.3081,))])\n",
        "mnist_train = datasets.MNIST('./data', train=True,  download=True, transform=transform)\n",
        "mnist_test  = datasets.MNIST('./data', train=False, download=True, transform=transform)\n",
        "mnist_trainloader = utils.data.DataLoader(mnist_train, batch_size=50, shuffle=True,  num_workers=2)\n",
        "mnist_testloader  = utils.data.DataLoader(mnist_test,  batch_size=1,  shuffle=False, num_workers=2)"
      ],
      "execution_count": 197,
      "outputs": []
    },
    {
      "cell_type": "code",
      "metadata": {
        "id": "jCzNDawShxHZ"
      },
      "source": [
        "# Make USPS dataloaders\n",
        "transform = transforms.Compose([transforms.Resize(size=(28, 28), interpolation=Image.BICUBIC),transforms.ToTensor(), transforms.Normalize((0.1307,), (0.3081,))])\n",
        "usps_train = datasets.USPS('./data', train=True,  download=True, transform=transform)\n",
        "usps_test  = datasets.USPS('./data', train=False, download=True, transform=transform)\n",
        "usps_trainloader = utils.data.DataLoader(usps_train, batch_size=50, shuffle=True,  num_workers=2)\n",
        "usps_testloader  = utils.data.DataLoader(usps_test,  batch_size=1,  shuffle=False, num_workers=2)"
      ],
      "execution_count": 198,
      "outputs": []
    },
    {
      "cell_type": "code",
      "metadata": {
        "id": "H1OIMFBs9m4G"
      },
      "source": [
        "def plot_traininigloss(loss_rec, tag):\n",
        "    plt.clf()\n",
        "    plt.grid(linestyle='-')\n",
        "    plt.plot(loss_rec)\n",
        "    plt.title(tag+\" training loss plot\")\n",
        "    plt.ylabel(\"Loss\")\n",
        "    plt.show()"
      ],
      "execution_count": 199,
      "outputs": []
    },
    {
      "cell_type": "code",
      "metadata": {
        "id": "LaBYJadqhxJy"
      },
      "source": [
        "# Script for training a network\n",
        "def train_model(net, optimizer, dataloader, loss_func, epoch_size=2, use_gpu=True):\n",
        "    loss_rec    = []    # For plotting loss\n",
        "    for epoch in range(epoch_size):\n",
        "        running_loss = 0.0\n",
        "        ct_num = 0\n",
        "        for iteration, data in enumerate(dataloader):\n",
        "            inputs, labels = data\n",
        "            if use_gpu:\n",
        "                inputs = inputs.cuda()\n",
        "                labels = labels.cuda()\n",
        "\n",
        "            optimizer.zero_grad()\n",
        "            outputs = net(inputs)\n",
        "            loss    = loss_func(outputs, labels)\n",
        "            loss.backward()\n",
        "            optimizer.step()\n",
        "        \n",
        "            with torch.no_grad():\n",
        "                running_loss+= loss.item()\n",
        "                ct_num+= 1\n",
        "                if iteration%10 == 9:\n",
        "                    clear_output(wait=True)\n",
        "                    print(\"Epoch [\"+str(epoch+1)+\"/\"+str(epoch_size)+\"], Iteration: \"+str(iteration+1)+\", Loss: \"+str(running_loss/ct_num)+'.')\n",
        "                    loss_rec.append(running_loss/ct_num)\n",
        "    return loss_rec"
      ],
      "execution_count": 200,
      "outputs": []
    },
    {
      "cell_type": "code",
      "metadata": {
        "id": "WtGiuBFjnx62"
      },
      "source": [
        "# Script for testing a network\n",
        "def evaluate_model(net, dataloader, tag, Pretrained=None, resize_to=None):\n",
        "    print(\"Testing the network...\")\n",
        "    if not Pretrained is None:\n",
        "        net.load_state_dict(torch.load(Pretrained))\n",
        "    net.eval()\n",
        "    total_num   = 0\n",
        "    correct_num = 0\n",
        "    for test_iter, test_data in enumerate(dataloader):\n",
        "        # Get one batch of test samples\n",
        "        inputs, labels = test_data    \n",
        "        if not resize_to is None:\n",
        "            inputs = F.interpolate(inputs, size=resize_to, mode='bicubic')\n",
        "        bch = inputs.size(0)\n",
        "\n",
        "        # Move inputs and labels into GPU\n",
        "        inputs = inputs.cuda()\n",
        "        labels = torch.LongTensor(list(labels)).cuda()\n",
        "\n",
        "        # Forward\n",
        "        outputs = net(inputs)   \n",
        "\n",
        "        # Get predicted classes\n",
        "        _, pred_cls = torch.max(outputs, 1)\n",
        "#        if total_num == 0:\n",
        "#           print(\"True label:\\n\", labels)\n",
        "#           print(\"Prediction:\\n\", pred_cls)\n",
        "        # Record test resultplot_traininigloss\n",
        "        correct_num+= (pred_cls == labels).float().sum().item()\n",
        "        total_num+= bch\n",
        "#    net.train()\n",
        "    print(tag+\"- accuracy: \"+\"%.2f\"%(correct_num/float(total_num)))"
      ],
      "execution_count": 201,
      "outputs": []
    },
    {
      "cell_type": "code",
      "metadata": {
        "id": "OPSwLvCZu-Zy",
        "colab": {
          "base_uri": "https://localhost:8080/",
          "height": 332
        },
        "outputId": "4efece9e-eecd-4e26-fde0-4267ed89c5e3"
      },
      "source": [
        "# Train the two network on MNIST, save the trained models in Google Drive.\n",
        "drive.mount('/content/gdrive/')\n",
        "save_root = F\"/content/gdrive/My Drive/Computer Vision/\"\n",
        "# save_pth_lenet   = save_root+'lenet_mnist.pt'\n",
        "save_pth_alexnet = save_root+'alexnet_mnist.pt'\n",
        "# lenet   = LeNet().cuda()\n",
        "alexnet = AlexNet().cuda()\n",
        "# lenet_optimizer   = optim.SGD(lenet.parameters(),   lr=lr, momentum=0.9)\n",
        "alexnet_optimizer = optim.SGD(alexnet.parameters(), lr=lr, momentum=0.9)\n",
        "loss_func = nn.CrossEntropyLoss()\n",
        "\n",
        "# Train lenet on MNIST.\n",
        "# lenet_loss_rec = train_model(lenet, lenet_optimizer, mnist_trainloader, loss_func, epoch_size=10, use_gpu=True)\n",
        "# torch.save(lenet.state_dict(), save_pth_lenet)\n",
        "\n",
        "# Train alexnet on MNIST\n",
        "alexnet_loss_rec = train_model(alexnet, alexnet_optimizer, mnist_trainloader, loss_func, epoch_size=20, use_gpu=True)\n",
        "torch.save(alexnet.state_dict(), save_pth_alexnet)\n",
        "\n",
        "# Test them.\n",
        "# evaluate_model(lenet,   mnist_testloader, tag='lenet')\n",
        "evaluate_model(alexnet, mnist_testloader, tag='alexnet')\n",
        "\n",
        "# Plot figures\n",
        "# plot_traininigloss(lenet_loss_rec,   tag='lenet')\n",
        "plot_traininigloss(alexnet_loss_rec, tag='alexnet')"
      ],
      "execution_count": 202,
      "outputs": [
        {
          "output_type": "stream",
          "text": [
            "Epoch [20/20], Iteration: 1200, Loss: 0.05366094989789417.\n",
            "Testing the network...\n",
            "alexnet- accuracy: 0.98\n"
          ],
          "name": "stdout"
        },
        {
          "output_type": "display_data",
          "data": {
            "image/png": "[encoded data removed]",
            "text/plain": [
              "<Figure size 432x288 with 1 Axes>"
            ]
          },
          "metadata": {
            "tags": [],
            "needs_background": "light"
          }
        }
      ]
    },
    {
      "cell_type": "code",
      "metadata": {
        "id": "PLq5X7s6zEDM",
        "colab": {
          "base_uri": "https://localhost:8080/",
          "height": 332
        },
        "outputId": "08b5da97-1224-487e-de19-1de46a7f3cd9"
      },
      "source": [
        "# Train the two network on USPS, save the trained models in Google Drive.\n",
        "drive.mount('/content/gdrive/')\n",
        "save_root = F\"/content/gdrive/My Drive/Computer Vision/\"\n",
        "# save_pth_lenet   = save_root+'lenet_usps.pt'\n",
        "save_pth_alexnet = save_root+'alexnet_usps.pt'\n",
        "# lenet   = LeNet().cuda()\n",
        "alexnet = AlexNet().cuda()\n",
        "# lenet_optimizer   = optim.SGD(lenet.parameters(),   lr=lr, momentum=0.9)\n",
        "alexnet_optimizer = optim.SGD(alexnet.parameters(), lr=lr, momentum=0.9)\n",
        "loss_func = nn.CrossEntropyLoss()\n",
        "\n",
        "# Train lenet on USPS.\n",
        "# lenet_loss_rec = train_model(lenet, lenet_optimizer, usps_trainloader, loss_func, epoch_size=50, use_gpu=True)\n",
        "# torch.save(lenet.state_dict(), save_pth_lenet)\n",
        "\n",
        "# # Train alexnet on USPS\n",
        "alexnet_loss_rec = train_model(alexnet, alexnet_optimizer, usps_trainloader, loss_func, epoch_size=100, use_gpu=True)\n",
        "torch.save(alexnet.state_dict(), save_pth_alexnet)\n",
        "\n",
        "# Test them.\n",
        "# evaluate_model(lenet,   usps_testloader, tag='lenet')\n",
        "evaluate_model(alexnet, usps_testloader, tag='alexnet')\n",
        "\n",
        "#Plot figures\n",
        "# plot_traininigloss(lenet_loss_rec,   tag='lenet')\n",
        "plot_traininigloss(alexnet_loss_rec, tag='alexnet')\n",
        "\n"
      ],
      "execution_count": 203,
      "outputs": [
        {
          "output_type": "stream",
          "text": [
            "Epoch [100/100], Iteration: 140, Loss: 0.04689618067183931.\n",
            "Testing the network...\n",
            "alexnet- accuracy: 0.94\n"
          ],
          "name": "stdout"
        },
        {
          "output_type": "display_data",
          "data": {
            "image/png": "[encoded data removed]",
            "text/plain": [
              "<Figure size 432x288 with 1 Axes>"
            ]
          },
          "metadata": {
            "tags": [],
            "needs_background": "light"
          }
        }
      ]
    },
    {
      "cell_type": "code",
      "metadata": {
        "id": "sTznGdWXNEPh"
      },
      "source": [
        "# FGSM attack code from pytorch tutorials.\n",
        "def fgsm_attack(image, epsilon, data_grad):\n",
        "    # Collect the element-wise sign of the data gradient\n",
        "    sign_data_grad = data_grad.sign()\n",
        "    # Create the perturbed image by adjusting each pixel of the input image\n",
        "    perturbed_image = image + epsilon*sign_data_grad\n",
        "    # Adding clipping to maintain [0,1] range\n",
        "    perturbed_image = torch.clamp(perturbed_image, 0, 1)\n",
        "    # Return the perturbed image\n",
        "    return perturbed_image\n",
        "    "
      ],
      "execution_count": 204,
      "outputs": []
    },
    {
      "cell_type": "code",
      "metadata": {
        "id": "0jRodLFwTss2"
      },
      "source": [
        "# Attack a network, make sure batch_size = 1 for this block\n",
        "def attack_model(net, dataloader, epsilon, Pretrained=None):\n",
        "    if not Pretrained is None:\n",
        "        net.load_state_dict(torch.load(Pretrained))\n",
        "    correct = 0\n",
        "    adv_samples   = []\n",
        "    sample_labels = []\n",
        "    for _, data in enumerate(dataloader):\n",
        "        image, target = data\n",
        "        image, target = image.cuda(), target.cuda()\n",
        "\n",
        "        # Set requires_grad attribute of tensor.\n",
        "        image.requires_grad = True\n",
        "\n",
        "        # Forward pass the data through the model\n",
        "        output = net(image)\n",
        "        init_pred = output.max(1, keepdim=True)[1] # get the index of the max log-probability\n",
        "\n",
        "        # If the initial prediction is wrong, dont bother attacking, just move on\n",
        "        if init_pred.item() != target.item():\n",
        "            continue\n",
        "\n",
        "        # Calculate the loss\n",
        "        loss = F.nll_loss(output, target)\n",
        "\n",
        "        # Zero all existing gradients\n",
        "        net.zero_grad()\n",
        "\n",
        "        # Calculate gradients of model in backward pass\n",
        "        loss.backward()\n",
        "\n",
        "        # Collect datagrad\n",
        "        image_grad = image.grad.data\n",
        "\n",
        "        # Call FGSM Attack\n",
        "        perturbed_image = fgsm_attack(image, epsilon, image_grad)\n",
        "\n",
        "        # Save perturbed_images\n",
        "        adv_samples.append(perturbed_image.detach().cpu())\n",
        "        sample_labels.append(target)\n",
        "\n",
        "        # Re-classify the perturbed image\n",
        "        output = net(perturbed_image)\n",
        "\n",
        "        # Check for success\n",
        "        final_pred = output.max(1, keepdim=True)[1] # get the index of the max log-probability\n",
        "        if final_pred.item() == target.item():\n",
        "            correct += 1\n",
        "\n",
        "\n",
        "    # Calculate final accuracy for this epsilon\n",
        "    final_acc = correct/float(len(dataloader))\n",
        "    print(\"Epsilon: {}\\tTest Accuracy = {}\".format(epsilon, final_acc))\n",
        "\n",
        "    # Return the accuracy and an adversarial example\n",
        "    return adv_samples, sample_labels"
      ],
      "execution_count": 205,
      "outputs": []
    },
    {
      "cell_type": "code",
      "metadata": {
        "id": "x9rRtsktXMUY",
        "colab": {
          "base_uri": "https://localhost:8080/"
        },
        "outputId": "9b0e3c86-2f01-4837-9b5f-44d2d9edacd1"
      },
      "source": [
        "# Attack LeNet\n",
        "Pretrained = save_root+'lenet_mnist.pt'\n",
        "epsilon = 0.6  # epsilon is the pixel-wise perturbation amount. A Hyper-param\n",
        "lenet_adv_samples, sample_labels = attack_model(lenet, mnist_testloader, epsilon=epsilon, Pretrained=Pretrained)"
      ],
      "execution_count": 232,
      "outputs": [
        {
          "output_type": "stream",
          "text": [
            "Epsilon: 0.6\tTest Accuracy = 0.1314\n"
          ],
          "name": "stdout"
        }
      ]
    },
    {
      "cell_type": "code",
      "metadata": {
        "id": "IYiAURsUchcK",
        "colab": {
          "base_uri": "https://localhost:8080/",
          "height": 124
        },
        "outputId": "7b4a3c22-9df4-4e28-ffcb-234827c2802d"
      },
      "source": [
        "show_imgs = torch.cat(lenet_adv_samples[:10], dim=0)\n",
        "show_imgs = torchvision.utils.make_grid(show_imgs, nrow=10).numpy().transpose((1,2,0))\n",
        "plt.imshow(show_imgs)\n",
        "print(sample_labels[:10])"
      ],
      "execution_count": 207,
      "outputs": [
        {
          "output_type": "stream",
          "text": [
            "[tensor([7], device='cuda:0'), tensor([2], device='cuda:0'), tensor([1], device='cuda:0'), tensor([0], device='cuda:0'), tensor([4], device='cuda:0'), tensor([1], device='cuda:0'), tensor([4], device='cuda:0'), tensor([9], device='cuda:0'), tensor([5], device='cuda:0'), tensor([9], device='cuda:0')]\n"
          ],
          "name": "stdout"
        },
        {
          "output_type": "display_data",
          "data": {
            "image/png": "[encoded data removed]",
            "text/plain": [
              "<Figure size 432x288 with 1 Axes>"
            ]
          },
          "metadata": {
            "tags": [],
            "needs_background": "light"
          }
        }
      ]
    },
    {
      "cell_type": "code",
      "metadata": {
        "id": "a12KsadKfcRk",
        "colab": {
          "base_uri": "https://localhost:8080/"
        },
        "outputId": "823c8485-2beb-4bf5-ecac-253d97c9d1eb"
      },
      "source": [
        "# Attack AlexNet using LeNets' adv_samples.\n",
        "Pretrained = save_root+'alexnet_mnist.pt'\n",
        "# Pretrained = save_root+'lenet_mnist.pt'\n",
        "transform_norm = transforms.Normalize((0.1307,), (0.3081,))\n",
        "dataloader = []\n",
        "for i, target in enumerate(sample_labels):\n",
        "    adv_sample = transform_norm(lenet_adv_samples[i][0])\n",
        "    dataloader.append((adv_sample.unsqueeze(dim=0), target))\n",
        "evaluate_model(alexnet, dataloader, tag='alexnet', Pretrained=Pretrained)\n",
        "# evaluate_model(lenet, dataloader, tag='lenet', Pretrained=Pretrained)\n"
      ],
      "execution_count": 233,
      "outputs": [
        {
          "output_type": "stream",
          "text": [
            "Testing the network...\n",
            "alexnet- accuracy: 0.56\n"
          ],
          "name": "stdout"
        }
      ]
    }
  ]
}